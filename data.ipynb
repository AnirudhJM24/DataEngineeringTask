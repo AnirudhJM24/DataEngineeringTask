{
 "cells": [
  {
   "cell_type": "code",
   "execution_count": 1,
   "metadata": {},
   "outputs": [],
   "source": [
    "import json"
   ]
  },
  {
   "cell_type": "code",
   "execution_count": 3,
   "metadata": {},
   "outputs": [],
   "source": [
    "f = open('data.json')\n",
    "\n",
    "data = json.load(f)"
   ]
  },
  {
   "cell_type": "code",
   "execution_count": 21,
   "metadata": {},
   "outputs": [
    {
     "data": {
      "text/plain": [
       "99"
      ]
     },
     "execution_count": 21,
     "metadata": {},
     "output_type": "execute_result"
    }
   ],
   "source": [
    "#number of records\n",
    "len(data)"
   ]
  },
  {
   "cell_type": "code",
   "execution_count": 10,
   "metadata": {},
   "outputs": [
    {
     "name": "stdout",
     "output_type": "stream",
     "text": [
      "dict_keys(['highestSeverity', 'notifications', 'duplicateWaybill', 'moreData', 'trackDetailsCount', 'trackDetails'])\n",
      "highestSeverity\n",
      "\n",
      "SUCCESS\n",
      "\n",
      "\n",
      "notifications\n",
      "\n",
      "[{'severity': 'SUCCESS', 'source': 'trck', 'code': '0', 'message': 'Request was successfully processed.', 'localizedMessage': 'Request was successfully processed.', 'messageParameters': []}]\n",
      "\n",
      "\n",
      "duplicateWaybill\n",
      "\n",
      "False\n",
      "\n",
      "\n",
      "moreData\n",
      "\n",
      "False\n",
      "\n",
      "\n",
      "trackDetailsCount\n",
      "\n",
      "0\n",
      "\n",
      "\n",
      "trackDetails\n",
      "\n",
      "[{'notification': {'severity': 'SUCCESS', 'source': 'trck', 'code': '0', 'message': 'Request was successfully processed.', 'localizedMessage': 'Request was successfully processed.', 'messageParameters': []}, 'trackingNumber': '390901883808', 'trackingNumberUniqueIdentifier': '2458915000~390901883808~FX', 'statusDetail': {'creationTime': {'$numberLong': '1583712000000'}, 'code': 'DL', 'description': 'Delivered', 'location': {'streetLines': [], 'city': 'Bangalore', 'stateOrProvinceCode': 'KA', 'countryCode': 'IN', 'countryName': 'India', 'residential': False}, 'ancillaryDetails': []}, 'informationNotes': [], 'customerExceptionRequests': [], 'carrierCode': 'FDXE', 'operatingCompanyOrCarrierDescription': 'FedEx Express', 'otherIdentifiers': [], 'service': {'type': 'FEDEX_EXPRESS_SAVER', 'description': 'FedEx Economy', 'shortDescription': 'XS'}, 'packageWeight': {'units': 'KG', 'value': 14}, 'shipmentWeight': {'units': 'KG', 'value': 14}, 'packaging': {'type': 'YOUR_PACKAGING', 'description': 'Your Packaging'}, 'packageSequenceNumber': 1, 'packageCount': 1, 'shipmentContentPieceCount': 0, 'packageContentPieceCount': 0, 'creatorSoftwareId': 'WSXI', 'charges': [], 'attributes': [], 'shipmentContents': [], 'packageContents': [], 'commodities': [], 'customsOptionDetails': [], 'specialHandlings': [{'type': 'DELIVER_WEEKDAY', 'description': 'Deliver Weekday', 'paymentType': 'OTHER'}], 'payments': [{'classification': 'TRANSPORTATION', 'type': 'SHIPPER_ACCOUNT', 'description': 'Shipper'}, {'classification': 'DUTIES_AND_TAXES', 'type': 'SHIPPER_ACCOUNT', 'description': 'Shipper'}], 'shipperAddress': {'streetLines': [], 'city': 'Bangalore', 'stateOrProvinceCode': 'KA', 'countryCode': 'IN', 'countryName': 'India', 'residential': False}, 'datesOrTimes': [{'type': 'ACTUAL_DELIVERY', 'dateOrTimestamp': '2020-03-09T19:50:00+05:30'}, {'type': 'ACTUAL_PICKUP', 'dateOrTimestamp': '2020-03-06T16:07:00+05:30'}, {'type': 'SHIP', 'dateOrTimestamp': '2020-03-06T00:00:00'}, {'type': 'ACTUAL_TENDER', 'dateOrTimestamp': '2020-03-06T16:07:00+05:30'}], 'specialInstructions': [], 'lastUpdatedDestinationAddress': {'streetLines': [], 'city': 'BANGALORE', 'stateOrProvinceCode': 'KA', 'countryCode': 'IN', 'countryName': 'India', 'residential': False}, 'destinationAddress': {'streetLines': [], 'city': 'Bangalore', 'stateOrProvinceCode': 'KA', 'countryCode': 'IN', 'countryName': 'India', 'residential': False}, 'actualDeliveryAddress': {'streetLines': [], 'city': 'Bangalore', 'stateOrProvinceCode': 'KA', 'countryCode': 'IN', 'countryName': 'India', 'residential': False}, 'deliveryLocationType': 'RECEPTIONIST_OR_FRONT_DESK', 'deliveryLocationDescription': 'Receptionist/Front Desk', 'deliveryAttempts': 0, 'deliverySignatureName': 'S.IGN', 'pieceCountVerificationDetails': [], 'totalUniqueAddressCountInConsolidation': 0, 'availableImages': [], 'notificationEventsAvailable': ['ON_DELIVERY'], 'splitShipmentParts': [], 'deliveryOptionEligibilityDetails': [{'option': 'INDIRECT_SIGNATURE_RELEASE', 'eligibility': 'INELIGIBLE'}, {'option': 'REDIRECT_TO_HOLD_AT_LOCATION', 'eligibility': 'INELIGIBLE'}, {'option': 'REROUTE', 'eligibility': 'INELIGIBLE'}, {'option': 'RESCHEDULE', 'eligibility': 'INELIGIBLE'}], 'events': [{'timestamp': {'$numberLong': '1583763600000'}, 'eventType': 'DL', 'eventDescription': 'Delivered', 'address': {'streetLines': [], 'city': 'Bangalore', 'stateOrProvinceCode': 'KA', 'postalCode': '560034', 'countryCode': 'IN', 'countryName': 'India', 'residential': False}, 'arrivalLocation': 'DELIVERY_LOCATION'}, {'timestamp': {'$numberLong': '1583731200000'}, 'eventType': 'OD', 'eventDescription': 'On FedEx vehicle for delivery', 'address': {'streetLines': [], 'city': 'BANGALORE', 'stateOrProvinceCode': 'KA', 'postalCode': '560100', 'countryCode': 'IN', 'countryName': 'India', 'residential': False}, 'arrivalLocation': 'VEHICLE'}, {'timestamp': {'$numberLong': '1583731140000'}, 'eventType': 'IT', 'eventDescription': 'In transit', 'statusExceptionCode': '67', 'statusExceptionDescription': 'Tendered to authorized agent for final delivery', 'address': {'streetLines': [], 'city': 'BANGALORE', 'stateOrProvinceCode': 'KA', 'postalCode': '560100', 'countryCode': 'IN', 'countryName': 'India', 'residential': False}, 'arrivalLocation': 'FEDEX_FACILITY'}, {'timestamp': {'$numberLong': '1583729700000'}, 'eventType': 'IT', 'eventDescription': 'In transit', 'statusExceptionCode': '67', 'statusExceptionDescription': 'Tendered to authorized agent for final delivery', 'address': {'streetLines': [], 'city': 'BANGALORE', 'stateOrProvinceCode': 'KA', 'postalCode': '560100', 'countryCode': 'IN', 'countryName': 'India', 'residential': False}, 'arrivalLocation': 'FEDEX_FACILITY'}, {'timestamp': {'$numberLong': '1583729700000'}, 'eventType': 'OD', 'eventDescription': 'On FedEx vehicle for delivery', 'address': {'streetLines': [], 'city': 'BANGALORE', 'stateOrProvinceCode': 'KA', 'postalCode': '560100', 'countryCode': 'IN', 'countryName': 'India', 'residential': False}, 'arrivalLocation': 'VEHICLE'}, {'timestamp': {'$numberLong': '1583721480000'}, 'eventType': 'AR', 'eventDescription': 'At local FedEx facility', 'address': {'streetLines': [], 'city': 'BANGALORE', 'stateOrProvinceCode': 'KA', 'postalCode': '560100', 'countryCode': 'IN', 'countryName': 'India', 'residential': False}, 'arrivalLocation': 'DESTINATION_FEDEX_FACILITY'}, {'timestamp': {'$numberLong': '1583624760000'}, 'eventType': 'IT', 'eventDescription': 'In transit', 'address': {'streetLines': [], 'city': 'BANGALORE', 'stateOrProvinceCode': 'KA', 'postalCode': '562123', 'countryCode': 'IN', 'countryName': 'India', 'residential': False}, 'arrivalLocation': 'FEDEX_FACILITY'}, {'timestamp': {'$numberLong': '1583525400000'}, 'eventType': 'IT', 'eventDescription': 'In transit', 'address': {'streetLines': [], 'city': 'BANGALORE', 'stateOrProvinceCode': 'KA', 'postalCode': '562123', 'countryCode': 'IN', 'countryName': 'India', 'residential': False}, 'arrivalLocation': 'FEDEX_FACILITY'}, {'timestamp': {'$numberLong': '1583525400000'}, 'eventType': 'IT', 'eventDescription': 'In transit', 'address': {'streetLines': [], 'city': 'BANGALORE', 'stateOrProvinceCode': 'KA', 'postalCode': '562123', 'countryCode': 'IN', 'countryName': 'India', 'residential': False}, 'arrivalLocation': 'FEDEX_FACILITY'}, {'timestamp': {'$numberLong': '1583514660000'}, 'eventType': 'DP', 'eventDescription': 'Left FedEx origin facility', 'address': {'streetLines': [], 'city': 'BANGALORE', 'stateOrProvinceCode': 'KA', 'postalCode': '560048', 'countryCode': 'IN', 'countryName': 'India', 'residential': False}, 'arrivalLocation': 'ORIGIN_FEDEX_FACILITY'}, {'timestamp': {'$numberLong': '1583491020000'}, 'eventType': 'PU', 'eventDescription': 'Picked up', 'address': {'streetLines': [], 'city': 'BANGALORE', 'stateOrProvinceCode': 'KA', 'postalCode': '560048', 'countryCode': 'IN', 'countryName': 'India', 'residential': False}, 'arrivalLocation': 'PICKUP_LOCATION'}, {'timestamp': {'$numberLong': '1583476076000'}, 'eventType': 'OC', 'eventDescription': 'Shipment information sent to FedEx', 'address': {'streetLines': [], 'residential': False}, 'arrivalLocation': 'CUSTOMER'}]}]\n",
      "\n",
      "\n"
     ]
    }
   ],
   "source": [
    "#understanding the json structure\n",
    "print(data[1].keys())\n",
    "\n",
    "for key in data[1].keys():\n",
    "    print(key + '\\n')\n",
    "    print(data[1][key])\n",
    "    print('\\n')"
   ]
  },
  {
   "cell_type": "code",
   "execution_count": 16,
   "metadata": {},
   "outputs": [
    {
     "name": "stdout",
     "output_type": "stream",
     "text": [
      "[{'notification': {'severity': 'SUCCESS', 'source': 'trck', 'code': '0', 'message': 'Request was successfully processed.', 'localizedMessage': 'Request was successfully processed.', 'messageParameters': []}, 'trackingNumber': '390901883808', 'trackingNumberUniqueIdentifier': '2458915000~390901883808~FX', 'statusDetail': {'creationTime': {'$numberLong': '1583712000000'}, 'code': 'DL', 'description': 'Delivered', 'location': {'streetLines': [], 'city': 'Bangalore', 'stateOrProvinceCode': 'KA', 'countryCode': 'IN', 'countryName': 'India', 'residential': False}, 'ancillaryDetails': []}, 'informationNotes': [], 'customerExceptionRequests': [], 'carrierCode': 'FDXE', 'operatingCompanyOrCarrierDescription': 'FedEx Express', 'otherIdentifiers': [], 'service': {'type': 'FEDEX_EXPRESS_SAVER', 'description': 'FedEx Economy', 'shortDescription': 'XS'}, 'packageWeight': {'units': 'KG', 'value': 14}, 'shipmentWeight': {'units': 'KG', 'value': 14}, 'packaging': {'type': 'YOUR_PACKAGING', 'description': 'Your Packaging'}, 'packageSequenceNumber': 1, 'packageCount': 1, 'shipmentContentPieceCount': 0, 'packageContentPieceCount': 0, 'creatorSoftwareId': 'WSXI', 'charges': [], 'attributes': [], 'shipmentContents': [], 'packageContents': [], 'commodities': [], 'customsOptionDetails': [], 'specialHandlings': [{'type': 'DELIVER_WEEKDAY', 'description': 'Deliver Weekday', 'paymentType': 'OTHER'}], 'payments': [{'classification': 'TRANSPORTATION', 'type': 'SHIPPER_ACCOUNT', 'description': 'Shipper'}, {'classification': 'DUTIES_AND_TAXES', 'type': 'SHIPPER_ACCOUNT', 'description': 'Shipper'}], 'shipperAddress': {'streetLines': [], 'city': 'Bangalore', 'stateOrProvinceCode': 'KA', 'countryCode': 'IN', 'countryName': 'India', 'residential': False}, 'datesOrTimes': [{'type': 'ACTUAL_DELIVERY', 'dateOrTimestamp': '2020-03-09T19:50:00+05:30'}, {'type': 'ACTUAL_PICKUP', 'dateOrTimestamp': '2020-03-06T16:07:00+05:30'}, {'type': 'SHIP', 'dateOrTimestamp': '2020-03-06T00:00:00'}, {'type': 'ACTUAL_TENDER', 'dateOrTimestamp': '2020-03-06T16:07:00+05:30'}], 'specialInstructions': [], 'lastUpdatedDestinationAddress': {'streetLines': [], 'city': 'BANGALORE', 'stateOrProvinceCode': 'KA', 'countryCode': 'IN', 'countryName': 'India', 'residential': False}, 'destinationAddress': {'streetLines': [], 'city': 'Bangalore', 'stateOrProvinceCode': 'KA', 'countryCode': 'IN', 'countryName': 'India', 'residential': False}, 'actualDeliveryAddress': {'streetLines': [], 'city': 'Bangalore', 'stateOrProvinceCode': 'KA', 'countryCode': 'IN', 'countryName': 'India', 'residential': False}, 'deliveryLocationType': 'RECEPTIONIST_OR_FRONT_DESK', 'deliveryLocationDescription': 'Receptionist/Front Desk', 'deliveryAttempts': 0, 'deliverySignatureName': 'S.IGN', 'pieceCountVerificationDetails': [], 'totalUniqueAddressCountInConsolidation': 0, 'availableImages': [], 'notificationEventsAvailable': ['ON_DELIVERY'], 'splitShipmentParts': [], 'deliveryOptionEligibilityDetails': [{'option': 'INDIRECT_SIGNATURE_RELEASE', 'eligibility': 'INELIGIBLE'}, {'option': 'REDIRECT_TO_HOLD_AT_LOCATION', 'eligibility': 'INELIGIBLE'}, {'option': 'REROUTE', 'eligibility': 'INELIGIBLE'}, {'option': 'RESCHEDULE', 'eligibility': 'INELIGIBLE'}], 'events': [{'timestamp': {'$numberLong': '1583763600000'}, 'eventType': 'DL', 'eventDescription': 'Delivered', 'address': {'streetLines': [], 'city': 'Bangalore', 'stateOrProvinceCode': 'KA', 'postalCode': '560034', 'countryCode': 'IN', 'countryName': 'India', 'residential': False}, 'arrivalLocation': 'DELIVERY_LOCATION'}, {'timestamp': {'$numberLong': '1583731200000'}, 'eventType': 'OD', 'eventDescription': 'On FedEx vehicle for delivery', 'address': {'streetLines': [], 'city': 'BANGALORE', 'stateOrProvinceCode': 'KA', 'postalCode': '560100', 'countryCode': 'IN', 'countryName': 'India', 'residential': False}, 'arrivalLocation': 'VEHICLE'}, {'timestamp': {'$numberLong': '1583731140000'}, 'eventType': 'IT', 'eventDescription': 'In transit', 'statusExceptionCode': '67', 'statusExceptionDescription': 'Tendered to authorized agent for final delivery', 'address': {'streetLines': [], 'city': 'BANGALORE', 'stateOrProvinceCode': 'KA', 'postalCode': '560100', 'countryCode': 'IN', 'countryName': 'India', 'residential': False}, 'arrivalLocation': 'FEDEX_FACILITY'}, {'timestamp': {'$numberLong': '1583729700000'}, 'eventType': 'IT', 'eventDescription': 'In transit', 'statusExceptionCode': '67', 'statusExceptionDescription': 'Tendered to authorized agent for final delivery', 'address': {'streetLines': [], 'city': 'BANGALORE', 'stateOrProvinceCode': 'KA', 'postalCode': '560100', 'countryCode': 'IN', 'countryName': 'India', 'residential': False}, 'arrivalLocation': 'FEDEX_FACILITY'}, {'timestamp': {'$numberLong': '1583729700000'}, 'eventType': 'OD', 'eventDescription': 'On FedEx vehicle for delivery', 'address': {'streetLines': [], 'city': 'BANGALORE', 'stateOrProvinceCode': 'KA', 'postalCode': '560100', 'countryCode': 'IN', 'countryName': 'India', 'residential': False}, 'arrivalLocation': 'VEHICLE'}, {'timestamp': {'$numberLong': '1583721480000'}, 'eventType': 'AR', 'eventDescription': 'At local FedEx facility', 'address': {'streetLines': [], 'city': 'BANGALORE', 'stateOrProvinceCode': 'KA', 'postalCode': '560100', 'countryCode': 'IN', 'countryName': 'India', 'residential': False}, 'arrivalLocation': 'DESTINATION_FEDEX_FACILITY'}, {'timestamp': {'$numberLong': '1583624760000'}, 'eventType': 'IT', 'eventDescription': 'In transit', 'address': {'streetLines': [], 'city': 'BANGALORE', 'stateOrProvinceCode': 'KA', 'postalCode': '562123', 'countryCode': 'IN', 'countryName': 'India', 'residential': False}, 'arrivalLocation': 'FEDEX_FACILITY'}, {'timestamp': {'$numberLong': '1583525400000'}, 'eventType': 'IT', 'eventDescription': 'In transit', 'address': {'streetLines': [], 'city': 'BANGALORE', 'stateOrProvinceCode': 'KA', 'postalCode': '562123', 'countryCode': 'IN', 'countryName': 'India', 'residential': False}, 'arrivalLocation': 'FEDEX_FACILITY'}, {'timestamp': {'$numberLong': '1583525400000'}, 'eventType': 'IT', 'eventDescription': 'In transit', 'address': {'streetLines': [], 'city': 'BANGALORE', 'stateOrProvinceCode': 'KA', 'postalCode': '562123', 'countryCode': 'IN', 'countryName': 'India', 'residential': False}, 'arrivalLocation': 'FEDEX_FACILITY'}, {'timestamp': {'$numberLong': '1583514660000'}, 'eventType': 'DP', 'eventDescription': 'Left FedEx origin facility', 'address': {'streetLines': [], 'city': 'BANGALORE', 'stateOrProvinceCode': 'KA', 'postalCode': '560048', 'countryCode': 'IN', 'countryName': 'India', 'residential': False}, 'arrivalLocation': 'ORIGIN_FEDEX_FACILITY'}, {'timestamp': {'$numberLong': '1583491020000'}, 'eventType': 'PU', 'eventDescription': 'Picked up', 'address': {'streetLines': [], 'city': 'BANGALORE', 'stateOrProvinceCode': 'KA', 'postalCode': '560048', 'countryCode': 'IN', 'countryName': 'India', 'residential': False}, 'arrivalLocation': 'PICKUP_LOCATION'}, {'timestamp': {'$numberLong': '1583476076000'}, 'eventType': 'OC', 'eventDescription': 'Shipment information sent to FedEx', 'address': {'streetLines': [], 'residential': False}, 'arrivalLocation': 'CUSTOMER'}]}]\n",
      "notification\n",
      "trackingNumber\n",
      "trackingNumberUniqueIdentifier\n",
      "statusDetail\n",
      "informationNotes\n",
      "customerExceptionRequests\n",
      "carrierCode\n",
      "operatingCompanyOrCarrierDescription\n",
      "otherIdentifiers\n",
      "service\n",
      "packageWeight\n",
      "shipmentWeight\n",
      "packaging\n",
      "packageSequenceNumber\n",
      "packageCount\n",
      "shipmentContentPieceCount\n",
      "packageContentPieceCount\n",
      "creatorSoftwareId\n",
      "charges\n",
      "attributes\n",
      "shipmentContents\n",
      "packageContents\n",
      "commodities\n",
      "customsOptionDetails\n",
      "specialHandlings\n",
      "payments\n",
      "shipperAddress\n",
      "datesOrTimes\n",
      "specialInstructions\n",
      "lastUpdatedDestinationAddress\n",
      "destinationAddress\n",
      "actualDeliveryAddress\n",
      "deliveryLocationType\n",
      "deliveryLocationDescription\n",
      "deliveryAttempts\n",
      "deliverySignatureName\n",
      "pieceCountVerificationDetails\n",
      "totalUniqueAddressCountInConsolidation\n",
      "availableImages\n",
      "notificationEventsAvailable\n",
      "splitShipmentParts\n",
      "deliveryOptionEligibilityDetails\n",
      "events\n"
     ]
    }
   ],
   "source": [
    "#required data in 'trackDetails' field\n",
    "\n",
    "td = data[1]['trackDetails']\n",
    "print(td)\n",
    "\n",
    "for tddata in td[0]:\n",
    "    print(tddata)"
   ]
  },
  {
   "cell_type": "code",
   "execution_count": 20,
   "metadata": {},
   "outputs": [
    {
     "name": "stdout",
     "output_type": "stream",
     "text": [
      "[{'type': 'DELIVER_WEEKDAY', 'description': 'Deliver Weekday', 'paymentType': 'OTHER'}]\n"
     ]
    }
   ],
   "source": [
    "#payment present in specialhandlings field where type is COD, will use that for logic to find out if it is COD or prepaid\n",
    "print(td[0]['specialHandlings'])"
   ]
  },
  {
   "cell_type": "code",
   "execution_count": 37,
   "metadata": {},
   "outputs": [
    {
     "name": "stdout",
     "output_type": "stream",
     "text": [
      "1583763600000\n",
      "1583476076000\n"
     ]
    }
   ],
   "source": [
    "#events have the delivery stages from picked up to delivered and details to compute picked-up to delivery\n",
    "print(int(td[0]['events'][0]['timestamp']['$numberLong']))\n",
    "print(td[0]['events'][-1]['timestamp']['$numberLong'])"
   ]
  },
  {
   "cell_type": "code",
   "execution_count": 55,
   "metadata": {},
   "outputs": [
    {
     "name": "stdout",
     "output_type": "stream",
     "text": [
      "1583763600000\n"
     ]
    }
   ],
   "source": [
    "from datetime import datetime\n",
    "import pytz\n",
    "#IST hence kolkata timezone\n",
    "timezone = pytz.timezone('Asia/Kolkata')\n",
    "#converting to int from str\n",
    "dt = int(td[0]['events'][0]['timestamp']['$numberLong'])\n",
    "print(dt)\n",
    "#dividing by 1e3 to make it unix format\n",
    "dt_obj = datetime.fromtimestamp(dt/1000,timezone)\n",
    "#can use day to compute\n"
   ]
  },
  {
   "cell_type": "code",
   "execution_count": 72,
   "metadata": {},
   "outputs": [
    {
     "name": "stdout",
     "output_type": "stream",
     "text": [
      "560034, Bangalore, KA\n",
      "560048, BANGALORE, KA\n"
     ]
    },
    {
     "data": {
      "text/plain": [
       "3"
      ]
     },
     "execution_count": 72,
     "metadata": {},
     "output_type": "execute_result"
    }
   ],
   "source": [
    "#computing delivery time, pickup and drop locations\n",
    "\n",
    "for event in td[0][\"events\"]:\n",
    "    if event[\"eventType\"] == \"DL\":\n",
    "        delivery_date = int(event['timestamp']['$numberLong'])\n",
    "        delivery_date_obj = datetime.fromtimestamp(delivery_date/1000,timezone)\n",
    "        drop_pincode = event[\"address\"][\"postalCode\"]\n",
    "        drop_state = event[\"address\"][\"stateOrProvinceCode\"]\n",
    "        drop_city = event[\"address\"][\"city\"]\n",
    "        print(drop_pincode+', '+drop_city+', '+drop_state)\n",
    "    if event[\"eventType\"] == \"PU\":\n",
    "        pickup_date = int(event['timestamp']['$numberLong'])\n",
    "        pickup_date_obj = datetime.fromtimestamp(pickup_date/1000,timezone)\n",
    "        pickup_pincode = event[\"address\"][\"postalCode\"]\n",
    "        pickup_state = event[\"address\"][\"stateOrProvinceCode\"]\n",
    "        pickup_city = event[\"address\"][\"city\"]\n",
    "        print(pickup_pincode+', '+pickup_city+', '+pickup_state)\n",
    "\n",
    "\n",
    "delta = delivery_date_obj - pickup_date_obj\n",
    "delta.days"
   ]
  },
  {
   "cell_type": "markdown",
   "metadata": {},
   "source": [
    "My assumptions for out for delivery and delivered\n",
    "out for delivery using eventType = OD and eventType = DL for delivered"
   ]
  },
  {
   "cell_type": "code",
   "execution_count": 65,
   "metadata": {},
   "outputs": [
    {
     "name": "stdout",
     "output_type": "stream",
     "text": [
      "Number of delivery attempts: 3\n",
      "Out For Delivery Datetimes: ['2020-03-09 05:20:00', '2020-03-09 04:55:00']\n"
     ]
    }
   ],
   "source": [
    "#deliveryAttempts\n",
    "from collections import defaultdict\n",
    "#using a dictionary to capture data with timestamp\n",
    "delivery_attempts = defaultdict(int)\n",
    "out_for_delivery_datetimes = []\n",
    "for event in td[0][\"events\"]:\n",
    "    timestamp = int(event[\"timestamp\"][\"$numberLong\"]) // 1000\n",
    "    #using utcfromtimestamp to avoid timezone stuff  \n",
    "    event_date = datetime.utcfromtimestamp(timestamp).strftime('%Y-%m-%d')\n",
    "\n",
    "    if event[\"eventType\"] == \"OD\":\n",
    "        #If Out For Delivery, mark it as a delivery attempt for the given date, and add it to the list\n",
    "        delivery_attempts[event_date] += 1\n",
    "        out_for_delivery_datetimes.append(datetime.utcfromtimestamp(timestamp).strftime('%Y-%m-%d %H:%M:%S'))\n",
    "    elif event[\"eventType\"] == \"DL\":\n",
    "        #If Delivered, check if Out For Delivery happened on the same date, and count as a delivery attempt\n",
    "        out_for_delivery_date = (datetime.utcfromtimestamp(timestamp - 1)).strftime('%Y-%m-%d')\n",
    "        if delivery_attempts[out_for_delivery_date] > 0:\n",
    "            delivery_attempts[out_for_delivery_date] -= 1\n",
    "        else:\n",
    "            delivery_attempts[event_date] += 1\n",
    "\n",
    "total_attempts = sum(delivery_attempts.values())\n",
    "\n",
    "print(\"Number of delivery attempts:\", total_attempts)\n",
    "print(\"Out For Delivery Datetimes:\", out_for_delivery_datetimes)\n"
   ]
  },
  {
   "cell_type": "code",
   "execution_count": null,
   "metadata": {},
   "outputs": [],
   "source": []
  }
 ],
 "metadata": {
  "kernelspec": {
   "display_name": "Python 3",
   "language": "python",
   "name": "python3"
  },
  "language_info": {
   "codemirror_mode": {
    "name": "ipython",
    "version": 3
   },
   "file_extension": ".py",
   "mimetype": "text/x-python",
   "name": "python",
   "nbconvert_exporter": "python",
   "pygments_lexer": "ipython3",
   "version": "3.11.4"
  }
 },
 "nbformat": 4,
 "nbformat_minor": 2
}
